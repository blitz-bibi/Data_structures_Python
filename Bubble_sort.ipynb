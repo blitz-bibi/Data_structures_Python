{
 "cells": [
  {
   "cell_type": "code",
   "execution_count": 19,
   "id": "622cd9d8",
   "metadata": {},
   "outputs": [],
   "source": [
    "def bubble_sort(L):\n",
    "    n = len(L)\n",
    "    for i in range(n):\n",
    "        for j in range(n-i-1):\n",
    "            if L[j] > L[j+1]:\n",
    "                L[j], L[j+1] = L[j+1], L[j]"
   ]
  },
  {
   "cell_type": "code",
   "execution_count": 20,
   "id": "bb096576",
   "metadata": {},
   "outputs": [
    {
     "name": "stdout",
     "output_type": "stream",
     "text": [
      "Before sorted:  [32, 2, 4, 16, 8]\n",
      "After sorted:  [2, 4, 8, 16, 32]\n"
     ]
    }
   ],
   "source": [
    "L = [32,2,4,16,8]\n",
    "print(\"Before sorted: \", L)\n",
    "bubble_sort(L)\n",
    "print(\"After sorted: \", L)"
   ]
  },
  {
   "cell_type": "code",
   "execution_count": null,
   "id": "7bdeab6f",
   "metadata": {},
   "outputs": [],
   "source": []
  },
  {
   "cell_type": "code",
   "execution_count": null,
   "id": "1c2c948f",
   "metadata": {},
   "outputs": [],
   "source": []
  }
 ],
 "metadata": {
  "kernelspec": {
   "display_name": "Python 3",
   "language": "python",
   "name": "python3"
  },
  "language_info": {
   "codemirror_mode": {
    "name": "ipython",
    "version": 3
   },
   "file_extension": ".py",
   "mimetype": "text/x-python",
   "name": "python",
   "nbconvert_exporter": "python",
   "pygments_lexer": "ipython3",
   "version": "3.8.8"
  }
 },
 "nbformat": 4,
 "nbformat_minor": 5
}
