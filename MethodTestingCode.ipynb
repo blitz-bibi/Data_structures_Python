{
 "cells": [
  {
   "cell_type": "code",
   "execution_count": 19,
   "id": "5a46891b",
   "metadata": {},
   "outputs": [],
   "source": [
    "def average(L):\n",
    "    if not L:\n",
    "        return None\n",
    "    \n",
    "    return sum(L)/len(L)\n"
   ]
  },
  {
   "cell_type": "code",
   "execution_count": 28,
   "id": "980f4dce",
   "metadata": {},
   "outputs": [
    {
     "name": "stdout",
     "output_type": "stream",
     "text": [
      "Enter a number limit:10\n",
      "4.5\n",
      "Test failed! received: 4.5 expected:  3.0\n"
     ]
    }
   ],
   "source": [
    "L = []\n",
    "n = int(input(\"Enter a number limit:\"))\n",
    "for i in range(n):\n",
    "    L.append(i)\n",
    "    \n",
    "\n",
    "if __name__ == \"__main__\":\n",
    "    e_o = 3.0\n",
    "    rlt = average(L) \n",
    "    print(average(L))\n",
    "    if e_o == rlt:\n",
    "        print(\"Test passed.\")\n",
    "    else:\n",
    "        print(\"Test failed!\", \"received:\", rlt, \"expected: \", e_o)"
   ]
  },
  {
   "cell_type": "code",
   "execution_count": 24,
   "id": "5ecf6b09",
   "metadata": {},
   "outputs": [],
   "source": [
    "l1 = []\n",
    "for i in range(10):\n",
    "    l1.append(i)"
   ]
  },
  {
   "cell_type": "code",
   "execution_count": 14,
   "id": "3cbb1519",
   "metadata": {},
   "outputs": [
    {
     "name": "stdout",
     "output_type": "stream",
     "text": [
      "[0, 1, 2, 3, 4, 5, 6, 7, 8, 9]\n"
     ]
    }
   ],
   "source": [
    "print(l1)"
   ]
  },
  {
   "cell_type": "code",
   "execution_count": 30,
   "id": "b0733e4e",
   "metadata": {},
   "outputs": [],
   "source": [
    "#assert\n",
    "\n",
    "assert 2 == 2\n",
    "assert 3> 2, \"Of course 3 is greater than 2\""
   ]
  },
  {
   "cell_type": "code",
   "execution_count": 33,
   "id": "b37633d3",
   "metadata": {},
   "outputs": [
    {
     "ename": "AssertionError",
     "evalue": "average() produced incorrect result.",
     "output_type": "error",
     "traceback": [
      "\u001b[1;31m---------------------------------------------------------------------------\u001b[0m",
      "\u001b[1;31mAssertionError\u001b[0m                            Traceback (most recent call last)",
      "\u001b[1;32m<ipython-input-33-c4aed903787b>\u001b[0m in \u001b[0;36m<module>\u001b[1;34m\u001b[0m\n\u001b[0;32m      1\u001b[0m \u001b[1;32mif\u001b[0m \u001b[0m__name__\u001b[0m \u001b[1;33m==\u001b[0m \u001b[1;34m\"__main__\"\u001b[0m\u001b[1;33m:\u001b[0m\u001b[1;33m\u001b[0m\u001b[1;33m\u001b[0m\u001b[0m\n\u001b[1;32m----> 2\u001b[1;33m     \u001b[1;32massert\u001b[0m \u001b[0me_o\u001b[0m \u001b[1;33m==\u001b[0m \u001b[0maverage\u001b[0m\u001b[1;33m(\u001b[0m\u001b[0ml1\u001b[0m\u001b[1;33m)\u001b[0m\u001b[1;33m,\u001b[0m \u001b[1;34m\"average() produced incorrect result.\"\u001b[0m\u001b[1;33m\u001b[0m\u001b[1;33m\u001b[0m\u001b[0m\n\u001b[0m",
      "\u001b[1;31mAssertionError\u001b[0m: average() produced incorrect result."
     ]
    }
   ],
   "source": [
    "if __name__ == \"__main__\":\n",
    "    assert e_o == average(l1), \"average() produced incorrect result.\""
   ]
  },
  {
   "cell_type": "code",
   "execution_count": null,
   "id": "32c3b800",
   "metadata": {},
   "outputs": [],
   "source": []
  }
 ],
 "metadata": {
  "kernelspec": {
   "display_name": "Python 3",
   "language": "python",
   "name": "python3"
  },
  "language_info": {
   "codemirror_mode": {
    "name": "ipython",
    "version": 3
   },
   "file_extension": ".py",
   "mimetype": "text/x-python",
   "name": "python",
   "nbconvert_exporter": "python",
   "pygments_lexer": "ipython3",
   "version": "3.8.8"
  }
 },
 "nbformat": 4,
 "nbformat_minor": 5
}
