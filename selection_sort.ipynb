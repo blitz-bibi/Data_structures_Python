{
 "cells": [
  {
   "cell_type": "code",
   "execution_count": 30,
   "id": "5138feb1",
   "metadata": {},
   "outputs": [],
   "source": [
    "def selection_sort(L):\n",
    "    ln = len(L)\n",
    "    \n",
    "    for i in range(ln):\n",
    "        index_min = i\n",
    "        print(\"index_min = {} and i = {}\".format(index_min,i))\n",
    "        \n",
    "        for j in range(i+1,ln+1):\n",
    "            if L[j] <= L[index_min]:\n",
    "                index_min = j\n",
    "                print(\"index_min {} and j = {}\".format(index_min, j))\n",
    "                \n",
    "                      \n",
    "            if index_min != i:\n",
    "                L[i], L[index_min] = L[index_min], L[i]\n",
    "                print(L[1], L[index_min])"
   ]
  },
  {
   "cell_type": "code",
   "execution_count": 31,
   "id": "b490e6ff",
   "metadata": {},
   "outputs": [
    {
     "name": "stdout",
     "output_type": "stream",
     "text": [
      "Before sort: [6, 1, 4, 9, 2]\n",
      "index_min = 0 and i = 0\n",
      "index_min 1 and j = 1\n",
      "6 6\n",
      "index_min 2 and j = 2\n",
      "6 1\n",
      "6 4\n",
      "index_min 4 and j = 4\n",
      "6 1\n"
     ]
    },
    {
     "ename": "IndexError",
     "evalue": "list index out of range",
     "output_type": "error",
     "traceback": [
      "\u001b[1;31m---------------------------------------------------------------------------\u001b[0m",
      "\u001b[1;31mIndexError\u001b[0m                                Traceback (most recent call last)",
      "\u001b[1;32m<ipython-input-31-94a104e5c4c7>\u001b[0m in \u001b[0;36m<module>\u001b[1;34m\u001b[0m\n\u001b[0;32m      2\u001b[0m     \u001b[0mL\u001b[0m \u001b[1;33m=\u001b[0m \u001b[1;33m[\u001b[0m\u001b[1;36m6\u001b[0m\u001b[1;33m,\u001b[0m\u001b[1;36m1\u001b[0m\u001b[1;33m,\u001b[0m\u001b[1;36m4\u001b[0m\u001b[1;33m,\u001b[0m\u001b[1;36m9\u001b[0m\u001b[1;33m,\u001b[0m\u001b[1;36m2\u001b[0m\u001b[1;33m]\u001b[0m\u001b[1;33m\u001b[0m\u001b[1;33m\u001b[0m\u001b[0m\n\u001b[0;32m      3\u001b[0m     \u001b[0mprint\u001b[0m\u001b[1;33m(\u001b[0m\u001b[1;34m\"Before sort:\"\u001b[0m\u001b[1;33m,\u001b[0m\u001b[0mL\u001b[0m\u001b[1;33m)\u001b[0m\u001b[1;33m\u001b[0m\u001b[1;33m\u001b[0m\u001b[0m\n\u001b[1;32m----> 4\u001b[1;33m     \u001b[0mselection_sort\u001b[0m\u001b[1;33m(\u001b[0m\u001b[0mL\u001b[0m\u001b[1;33m)\u001b[0m\u001b[1;33m\u001b[0m\u001b[1;33m\u001b[0m\u001b[0m\n\u001b[0m\u001b[0;32m      5\u001b[0m     \u001b[0mprint\u001b[0m\u001b[1;33m(\u001b[0m\u001b[1;34m\"After sort:\"\u001b[0m\u001b[1;33m,\u001b[0m\u001b[0mL\u001b[0m\u001b[1;33m)\u001b[0m\u001b[1;33m\u001b[0m\u001b[1;33m\u001b[0m\u001b[0m\n",
      "\u001b[1;32m<ipython-input-30-b0e24ce35c0a>\u001b[0m in \u001b[0;36mselection_sort\u001b[1;34m(L)\u001b[0m\n\u001b[0;32m      7\u001b[0m \u001b[1;33m\u001b[0m\u001b[0m\n\u001b[0;32m      8\u001b[0m         \u001b[1;32mfor\u001b[0m \u001b[0mj\u001b[0m \u001b[1;32min\u001b[0m \u001b[0mrange\u001b[0m\u001b[1;33m(\u001b[0m\u001b[0mi\u001b[0m\u001b[1;33m+\u001b[0m\u001b[1;36m1\u001b[0m\u001b[1;33m,\u001b[0m\u001b[0mln\u001b[0m\u001b[1;33m+\u001b[0m\u001b[1;36m1\u001b[0m\u001b[1;33m)\u001b[0m\u001b[1;33m:\u001b[0m\u001b[1;33m\u001b[0m\u001b[1;33m\u001b[0m\u001b[0m\n\u001b[1;32m----> 9\u001b[1;33m             \u001b[1;32mif\u001b[0m \u001b[0mL\u001b[0m\u001b[1;33m[\u001b[0m\u001b[0mj\u001b[0m\u001b[1;33m]\u001b[0m \u001b[1;33m<=\u001b[0m \u001b[0mL\u001b[0m\u001b[1;33m[\u001b[0m\u001b[0mindex_min\u001b[0m\u001b[1;33m]\u001b[0m\u001b[1;33m:\u001b[0m\u001b[1;33m\u001b[0m\u001b[1;33m\u001b[0m\u001b[0m\n\u001b[0m\u001b[0;32m     10\u001b[0m                 \u001b[0mindex_min\u001b[0m \u001b[1;33m=\u001b[0m \u001b[0mj\u001b[0m\u001b[1;33m\u001b[0m\u001b[1;33m\u001b[0m\u001b[0m\n\u001b[0;32m     11\u001b[0m                 \u001b[0mprint\u001b[0m\u001b[1;33m(\u001b[0m\u001b[1;34m\"index_min {} and j = {}\"\u001b[0m\u001b[1;33m.\u001b[0m\u001b[0mformat\u001b[0m\u001b[1;33m(\u001b[0m\u001b[0mindex_min\u001b[0m\u001b[1;33m,\u001b[0m \u001b[0mj\u001b[0m\u001b[1;33m)\u001b[0m\u001b[1;33m)\u001b[0m\u001b[1;33m\u001b[0m\u001b[1;33m\u001b[0m\u001b[0m\n",
      "\u001b[1;31mIndexError\u001b[0m: list index out of range"
     ]
    }
   ],
   "source": [
    "if __name__ == \"__main__\":\n",
    "    L = [6,1,4,9,2]\n",
    "    print(\"Before sort:\",L)\n",
    "    selection_sort(L)\n",
    "    print(\"After sort:\",L)"
   ]
  },
  {
   "cell_type": "code",
   "execution_count": 29,
   "id": "b525b820",
   "metadata": {},
   "outputs": [
    {
     "name": "stdout",
     "output_type": "stream",
     "text": [
      "I = 0\n",
      "mid_idx = j 1\n",
      "mid_idx = 25 and j = 25\n",
      "mid_idx = j 2\n",
      "mid_idx = 12 and j = 12\n",
      "mid_idx = j 4\n",
      "mid_idx = 11 and j = 11\n",
      "A[i] = 11 and A[min_idx] = 64\n",
      "I = 1\n",
      "mid_idx = j 2\n",
      "mid_idx = 12 and j = 12\n",
      "A[i] = 12 and A[min_idx] = 25\n",
      "I = 2\n",
      "mid_idx = j 3\n",
      "mid_idx = 22 and j = 22\n",
      "A[i] = 22 and A[min_idx] = 25\n",
      "I = 3\n",
      "A[i] = 25 and A[min_idx] = 25\n",
      "I = 4\n",
      "A[i] = 64 and A[min_idx] = 64\n"
     ]
    }
   ],
   "source": [
    "# Python program for implementation of Selection\n",
    "# Sort\n",
    "#import sys\n",
    "A = [64, 25, 12, 22, 11]\n",
    "\n",
    "# Traverse through all array elements\n",
    "for i in range(len(A)):\n",
    "\n",
    "    # Find the minimum element in remaining\n",
    "    # unsorted array\n",
    "    min_idx = i\n",
    "    print(\"I = {}\".format(i))\n",
    "    for j in range(i+1, len(A)):\n",
    "        if A[min_idx] > A[j]:\n",
    "            min_idx = j\n",
    "            print(\"mid_idx = j\",min_idx)\n",
    "           # print(.format(min_idx))\n",
    "            print(\"mid_idx = {} and j = {}\".format(A[min_idx],A[j]))\n",
    "                  \n",
    "            \n",
    "    # Swap the found minimum element with\n",
    "    # the first element\t\n",
    "    A[i], A[min_idx] = A[min_idx], A[i]\n",
    "    print(\"A[i] = {} and A[min_idx] = {}\".format(A[i], A[min_idx]))\n",
    "\n"
   ]
  },
  {
   "cell_type": "code",
   "execution_count": 28,
   "id": "2e670edf",
   "metadata": {},
   "outputs": [
    {
     "name": "stdout",
     "output_type": "stream",
     "text": [
      "Sorted array\n",
      "11\n",
      "12\n",
      "22\n",
      "25\n",
      "64\n"
     ]
    }
   ],
   "source": [
    "\n",
    "# Driver code to test above\n",
    "print (\"Sorted array\")\n",
    "for i in range(len(A)):\n",
    "\tprint(\"%d\" %A[i]),"
   ]
  },
  {
   "cell_type": "code",
   "execution_count": null,
   "id": "0f67a3ef",
   "metadata": {},
   "outputs": [],
   "source": []
  }
 ],
 "metadata": {
  "kernelspec": {
   "display_name": "Python 3",
   "language": "python",
   "name": "python3"
  },
  "language_info": {
   "codemirror_mode": {
    "name": "ipython",
    "version": 3
   },
   "file_extension": ".py",
   "mimetype": "text/x-python",
   "name": "python",
   "nbconvert_exporter": "python",
   "pygments_lexer": "ipython3",
   "version": "3.8.8"
  }
 },
 "nbformat": 4,
 "nbformat_minor": 5
}
