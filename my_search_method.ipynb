{
 "cells": [
  {
   "cell_type": "code",
   "execution_count": 2,
   "id": "37df5692",
   "metadata": {},
   "outputs": [
    {
     "name": "stdout",
     "output_type": "stream",
     "text": [
      "Enter number limit: 10\n",
      "0 number is: 51\n",
      "1 number is: 6122\n",
      "2 number is: 156\n",
      "3 number is: 14\n",
      "4 number is: 78\n",
      "5 number is: 95\n",
      "6 number is: 36\n",
      "7 number is: 45\n",
      "8 number is: 663\n",
      "9 number is: 10\n"
     ]
    }
   ],
   "source": [
    "li = []\n",
    "num = int(input(\"Enter number limit: \"))\n",
    "for i in range(num):\n",
    "    j = int(input(\"{} number is: \".format(i)))\n",
    "    li.append(j)"
   ]
  },
  {
   "cell_type": "code",
   "execution_count": 4,
   "id": "e853f94d",
   "metadata": {},
   "outputs": [],
   "source": [
    "def serch(n):\n",
    "    if n in li:\n",
    "        print(\"Found\")\n",
    "    else:\n",
    "        print(\"Not found!\")\n",
    "    "
   ]
  },
  {
   "cell_type": "code",
   "execution_count": 6,
   "id": "67047787",
   "metadata": {},
   "outputs": [
    {
     "name": "stdout",
     "output_type": "stream",
     "text": [
      "Found\n"
     ]
    }
   ],
   "source": [
    "serch(10)"
   ]
  },
  {
   "cell_type": "code",
   "execution_count": null,
   "id": "dd179501",
   "metadata": {},
   "outputs": [],
   "source": []
  }
 ],
 "metadata": {
  "kernelspec": {
   "display_name": "Python 3",
   "language": "python",
   "name": "python3"
  },
  "language_info": {
   "codemirror_mode": {
    "name": "ipython",
    "version": 3
   },
   "file_extension": ".py",
   "mimetype": "text/x-python",
   "name": "python",
   "nbconvert_exporter": "python",
   "pygments_lexer": "ipython3",
   "version": "3.8.8"
  }
 },
 "nbformat": 4,
 "nbformat_minor": 5
}
