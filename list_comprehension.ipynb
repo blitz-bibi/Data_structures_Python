{
  "nbformat": 4,
  "nbformat_minor": 0,
  "metadata": {
    "colab": {
      "name": "list comprehension.ipynb",
      "provenance": []
    },
    "kernelspec": {
      "name": "python3",
      "display_name": "Python 3"
    },
    "language_info": {
      "name": "python"
    }
  },
  "cells": [
    {
      "cell_type": "markdown",
      "metadata": {
        "id": "DbWyH-YEhne0"
      },
      "source": [
        "Getting all the numbers from a string"
      ]
    },
    {
      "cell_type": "code",
      "metadata": {
        "colab": {
          "base_uri": "https://localhost:8080/"
        },
        "id": "4--fXbKPgOyx",
        "outputId": "2b2a03b8-35e0-4db9-b297-9b5c0d0eaf75"
      },
      "source": [
        "x = \"I would love 2 to go 2 that restaurant 3 times\"\n",
        "\n",
        "y = [i for i in x if i.isnumeric()]\n",
        "\n",
        "print(' nums: ' + ''.join(y))"
      ],
      "execution_count": 7,
      "outputs": [
        {
          "output_type": "stream",
          "text": [
            " nums: 223\n"
          ],
          "name": "stdout"
        }
      ]
    },
    {
      "cell_type": "markdown",
      "metadata": {
        "id": "PRFykNkphlqc"
      },
      "source": [
        "getting index from a list items"
      ]
    },
    {
      "cell_type": "code",
      "metadata": {
        "colab": {
          "base_uri": "https://localhost:8080/"
        },
        "id": "UtJxUbsvhja4",
        "outputId": "e57fb595-6adb-46be-8609-cc43be9667c8"
      },
      "source": [
        "names = [\"a\",\"c\",\"d\"]\n",
        "\n",
        "idx = [x for x, v in enumerate(names) if v == \"c\"]\n",
        "\n",
        "print(\"index \" + str(idx[0]))"
      ],
      "execution_count": 11,
      "outputs": [
        {
          "output_type": "stream",
          "text": [
            "index 1\n"
          ],
          "name": "stdout"
        }
      ]
    },
    {
      "cell_type": "markdown",
      "metadata": {
        "id": "taCMY5D395Vs"
      },
      "source": [
        "if-else condition in a comprehension"
      ]
    },
    {
      "cell_type": "code",
      "metadata": {
        "colab": {
          "base_uri": "https://localhost:8080/"
        },
        "id": "M9KoGJyN-CIR",
        "outputId": "a86c29e2-994d-4a15-8446-696132f373ca"
      },
      "source": [
        "num = [5,3,10,15,12]\n",
        "\n",
        "y = [ x if x%2 == 0 in num else 10*x for x in num]\n",
        "\n",
        "print(\"num: \" + str(y))\n"
      ],
      "execution_count": 1,
      "outputs": [
        {
          "output_type": "stream",
          "text": [
            "num: [50, 30, 100, 150, 120]\n"
          ],
          "name": "stdout"
        }
      ]
    },
    {
      "cell_type": "markdown",
      "metadata": {
        "id": "eyAvI4GJBMjq"
      },
      "source": [
        "nested loop iteration for 2d list"
      ]
    },
    {
      "cell_type": "code",
      "metadata": {
        "colab": {
          "base_uri": "https://localhost:8080/"
        },
        "id": "V0Ka2mEcBRnR",
        "outputId": "44c78f75-2309-40da-ff99-b86b6e7e3a91"
      },
      "source": [
        "a = [[1,2],[3,4]]\n",
        "\n",
        "new_list = [x for b in a for x in b]\n",
        "\n",
        "print(\"new_list: \" + str(new_list))"
      ],
      "execution_count": 2,
      "outputs": [
        {
          "output_type": "stream",
          "text": [
            "new_list: [1, 2, 3, 4]\n"
          ],
          "name": "stdout"
        }
      ]
    },
    {
      "cell_type": "code",
      "metadata": {
        "colab": {
          "base_uri": "https://localhost:8080/"
        },
        "id": "-BZl26j0BsM5",
        "outputId": "5cd18f09-7054-4253-8867-c18a9cbd55ab"
      },
      "source": [
        "c = [[1,2],[3,4]]\n",
        "for d in c:\n",
        "  print(d)\n",
        "  for x in d:\n",
        "    print(x)"
      ],
      "execution_count": 4,
      "outputs": [
        {
          "output_type": "stream",
          "text": [
            "[1, 2]\n",
            "1\n",
            "2\n",
            "[3, 4]\n",
            "3\n",
            "4\n"
          ],
          "name": "stdout"
        }
      ]
    },
    {
      "cell_type": "code",
      "metadata": {
        "id": "byGSpH52B1CJ"
      },
      "source": [
        ""
      ],
      "execution_count": null,
      "outputs": []
    }
  ]
}