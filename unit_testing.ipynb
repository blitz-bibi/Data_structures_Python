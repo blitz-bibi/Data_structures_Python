{
 "cells": [
  {
   "cell_type": "code",
   "execution_count": 4,
   "id": "41b3bbab",
   "metadata": {},
   "outputs": [],
   "source": [
    "def average(L):\n",
    "    if not L:\n",
    "        return None\n",
    "    \n",
    "    return sum(L)/len(L)\n",
    "\n",
    "def test_average():\n",
    "    assert 3.0 == average([1,2,3,4,5])"
   ]
  },
  {
   "cell_type": "code",
   "execution_count": null,
   "id": "62365efc",
   "metadata": {},
   "outputs": [],
   "source": []
  }
 ],
 "metadata": {
  "kernelspec": {
   "display_name": "Python 3",
   "language": "python",
   "name": "python3"
  },
  "language_info": {
   "codemirror_mode": {
    "name": "ipython",
    "version": 3
   },
   "file_extension": ".py",
   "mimetype": "text/x-python",
   "name": "python",
   "nbconvert_exporter": "python",
   "pygments_lexer": "ipython3",
   "version": "3.8.8"
  }
 },
 "nbformat": 4,
 "nbformat_minor": 5
}
