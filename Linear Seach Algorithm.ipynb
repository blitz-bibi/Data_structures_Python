{
 "cells": [
  {
   "cell_type": "markdown",
   "id": "f11d2bd3",
   "metadata": {},
   "source": [
    "## Linear Seach Algorithm"
   ]
  },
  {
   "cell_type": "markdown",
   "id": "b0e72903",
   "metadata": {},
   "source": [
    "### Input: One list L and One Element X"
   ]
  },
  {
   "cell_type": "code",
   "execution_count": 9,
   "id": "fd8cab29",
   "metadata": {},
   "outputs": [],
   "source": [
    "def linear_search(L, X):\n",
    "    length = len(L)\n",
    "    for i in range(length):\n",
    "        if L[i] == X:\n",
    "            return i\n",
    "    return -1"
   ]
  },
  {
   "cell_type": "code",
   "execution_count": null,
   "id": "88f5f2f8",
   "metadata": {},
   "outputs": [],
   "source": [
    "n = int(input(\"Enter the number you are looking for: \"))\n",
    "l = [323,4,5,6,89,76,19,10,342,11,12,14,15,16,41,55,56,89]\n",
    "print(linear_search(l,n))"
   ]
  }
 ],
 "metadata": {
  "kernelspec": {
   "display_name": "Python 3",
   "language": "python",
   "name": "python3"
  },
  "language_info": {
   "codemirror_mode": {
    "name": "ipython",
    "version": 3
   },
   "file_extension": ".py",
   "mimetype": "text/x-python",
   "name": "python",
   "nbconvert_exporter": "python",
   "pygments_lexer": "ipython3",
   "version": "3.8.8"
  }
 },
 "nbformat": 4,
 "nbformat_minor": 5
}
