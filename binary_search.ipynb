{
 "cells": [
  {
   "cell_type": "code",
   "execution_count": 26,
   "id": "167de433",
   "metadata": {},
   "outputs": [],
   "source": [
    "def binary_search(L, x):\n",
    "    left, right = 0, len(L)-1\n",
    "    \n",
    "    while left <= right:\n",
    "        mid = int(( left + right ) / 2)\n",
    "        if L[mid] == x:\n",
    "            return mid\n",
    "        \n",
    "        if L[mid] < x:\n",
    "            left = mid + 1\n",
    "        else:\n",
    "            right = mid -1\n",
    "    return -1"
   ]
  },
  {
   "cell_type": "code",
   "execution_count": 28,
   "id": "375ec772",
   "metadata": {},
   "outputs": [
    {
     "name": "stdout",
     "output_type": "stream",
     "text": [
      "Enter the number you are looking for: 9\n",
      "5\n"
     ]
    }
   ],
   "source": [
    "n = int(input(\"Enter the number you are looking for: \"))\n",
    "l = [1,2,3,5,6,9,12,15,16,18,19,25,26,28,29,32,35,38,39,41,45]\n",
    "print(binary_search(l,n))"
   ]
  },
  {
   "cell_type": "code",
   "execution_count": 32,
   "id": "a8a79b50",
   "metadata": {},
   "outputs": [],
   "source": [
    "def b(l,x):\n",
    "    le, ri = 1, len(l)\n",
    "    while le <= ri:\n",
    "        mid = (le + ri) // 2\n",
    "        if l[mid] == x:\n",
    "            return mid\n",
    "        if x > ri:\n",
    "            ri = mid -1\n",
    "        else:\n",
    "            le = mid + 1\n",
    "    return -1"
   ]
  },
  {
   "cell_type": "code",
   "execution_count": 33,
   "id": "a29c8cd4",
   "metadata": {},
   "outputs": [
    {
     "data": {
      "text/plain": [
       "3"
      ]
     },
     "execution_count": 33,
     "metadata": {},
     "output_type": "execute_result"
    }
   ],
   "source": [
    "l = [1,6,8,99,10]\n",
    "n = 99\n",
    "b(l,n)"
   ]
  },
  {
   "cell_type": "code",
   "execution_count": null,
   "id": "4c382da6",
   "metadata": {},
   "outputs": [],
   "source": []
  }
 ],
 "metadata": {
  "kernelspec": {
   "display_name": "Python 3",
   "language": "python",
   "name": "python3"
  },
  "language_info": {
   "codemirror_mode": {
    "name": "ipython",
    "version": 3
   },
   "file_extension": ".py",
   "mimetype": "text/x-python",
   "name": "python",
   "nbconvert_exporter": "python",
   "pygments_lexer": "ipython3",
   "version": "3.8.8"
  }
 },
 "nbformat": 4,
 "nbformat_minor": 5
}
